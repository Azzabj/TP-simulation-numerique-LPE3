{
 "cells": [
  {
   "cell_type": "markdown",
   "metadata": {},
   "source": [
    "# TP2 - Fonctions, Boucles, Conditions et Bibliothèques en Python\n",
    "### Ben Jannet Azza"
   ]
  },
  {
   "cell_type": "markdown",
   "metadata": {},
   "source": [
    "## Objectif\n",
    "L’objectif de ce TP est de :\n",
    "- Comprendre comment définir et utiliser des fonctions en Python.\n",
    "- Maîtriser l'utilisation des conditions et des boucles.\n",
    "- Savoir comment importer et utiliser des bibliothèques comme math et numpy."
   ]
  },
  {
   "cell_type": "markdown",
   "metadata": {},
   "source": [
    "## Introduction aux Fonctions en Python"
   ]
  },
  {
   "cell_type": "markdown",
   "metadata": {},
   "source": [
    "### Exercice 1 : Définition et utilisation d'une fonction\n",
    "1 - Ecrivez une fonction appelée `carre(x)` qui prend un argument `x` et retourne le carré de `x`.\n",
    "\n",
    "2 - Appelez la fonction pour afficher le carré de plusieurs valeurs, par exemple `carre(3)`, `carre(5)`.\n",
    "\n",
    "3 - Modifiez la fonction pour qu'elle prenne un deuxième paramètre `n` et calcule `x` à la puissance `n`."
   ]
  },
  {
   "cell_type": "code",
   "execution_count": null,
   "metadata": {},
   "outputs": [],
   "source": [
    "# Exercice 1 - Solution\n"
   ]
  },
  {
   "cell_type": "markdown",
   "metadata": {},
   "source": [
    "### Exercice 2 : Fonction avec une condition\n",
    "1 - Ecrivez une fonction appelée `pair_ou_impair` qui prend un nombre en argument et renvoie si ce nombre est pair ou impair.\n",
    "\n",
    "2 - Testez la fonction, par exemple `pair_ou_impair(4)`, `pair_ou_impair(7)`."
   ]
  },
  {
   "cell_type": "code",
   "execution_count": null,
   "metadata": {},
   "outputs": [],
   "source": [
    "# Exercice 2 - Solution\n"
   ]
  },
  {
   "cell_type": "markdown",
   "metadata": {},
   "source": [
    "### Exercice 3 : Nombres de Fibonacci\n",
    "1 - Implémentez une fonction qui calcule le nième nombre de Fibonacci.\n",
    "\n",
    "**Rappel :** Les nombres de Fibonacci forment une séquence d'entiers construite en suivant une règle simple :\n",
    "- Le premier élément de la séquence est égal à 1 : $\\text{Fib}_1 = 1$.\n",
    "- Le deuxième élément est également égal à 1 : $\\text{Fib}_2 = 1$.\n",
    "- Chaque nombre suivant est la somme des deux précédents : $\\text{Fib}_i = \\text{Fib}_{i-1} + \\text{Fib}_{i-2}$ pour $i \\geq 3$.\n",
    "\n",
    "2 - Testez : `fibonacci(5)` et `fibonacci(10)`"
   ]
  },
  {
   "cell_type": "code",
   "execution_count": null,
   "metadata": {},
   "outputs": [],
   "source": [
    "# Exercice 3 - Solution (Fibonacci)\n"
   ]
  },
  {
   "cell_type": "markdown",
   "metadata": {},
   "source": [
    "## Conditions et Boucles"
   ]
  },
  {
   "cell_type": "markdown",
   "metadata": {},
   "source": [
    "### Exercice 4 : Maximum de trois nombres\n",
    "1 - Ecrivez une fonction `max_de_trois(a, b, c)` qui renvoie le plus grand des trois nombres en utilisant des conditions (if, elif, else).\n",
    "\n",
    "2 - Testez la fonction : `max_de_trois(10, 20, 15)`"
   ]
  },
  {
   "cell_type": "code",
   "execution_count": null,
   "metadata": {},
   "outputs": [],
   "source": [
    "# Exercice 4 - Solution\n"
   ]
  },
  {
   "cell_type": "markdown",
   "metadata": {},
   "source": [
    "### Exercice 5 : Boucle While et somme\n",
    "1 - Ecrivez une fonction `somme_de_n(n)` qui utilise une boucle while pour calculer la somme des nombres de 1 à n.\n",
    "\n",
    "2 - Testez la fonction : `somme_de_n(5)`"
   ]
  },
  {
   "cell_type": "code",
   "execution_count": null,
   "metadata": {},
   "outputs": [],
   "source": [
    "# Exercice 5 - Solution\n"
   ]
  },
  {
   "cell_type": "markdown",
   "metadata": {},
   "source": [
    "## Utilisation des Bibliothèques"
   ]
  },
  {
   "cell_type": "markdown",
   "metadata": {},
   "source": [
    "### Exercice 7 : Utilisation des fonctions math\n",
    "1 - Importez la bibliothèque `math`.\n",
    "\n",
    "2 - Ecrivez une fonction `operation_math(x)` qui calcule et renvoie :\n",
    "- La racine carrée d'un nombre avec `math.sqrt`.\n",
    "- Le logarithme naturel avec `math.log`.\n",
    "- Le sinus d'un angle (en radians) avec `math.sin`.\n",
    "\n",
    "3 - Testez la fonction `operation_math(5)` et affichez les résultats arrondis à deux chiffres après la virgule.\n",
    "\n",
    "4 - Calculez la factorielle de `7` en utilisant la fonction `factorial()` de la bibliothèque `math`."
   ]
  },
  {
   "cell_type": "code",
   "execution_count": null,
   "metadata": {},
   "outputs": [],
   "source": [
    "# Exercice 7 - Solution\n"
   ]
  },
  {
   "cell_type": "markdown",
   "metadata": {},
   "source": [
    "### Exercice 8 : Utilisation de numpy\n",
    "1 - Importez `numpy` sous l'alias `np`.\n",
    "\n",
    "2 - Utilisez la fonction `numpy.arange` pour créer un tableau de nombres entre 0 et 10 avec un pas de 0.5.\n",
    "\n",
    "3 - Utilisez la fonction `numpy.linspace` pour créer un tableau de 10 nombres également espacés entre 0 et 1."
   ]
  },
  {
   "cell_type": "code",
   "execution_count": null,
   "metadata": {},
   "outputs": [],
   "source": [
    "# Exercice 8 - Solution\n"
   ]
  },
  {
   "cell_type": "markdown",
   "metadata": {},
   "source": [
    "### Exercice 9 : Opérations sur les tableaux numpy\n",
    "1 - Ecrivez une fonction `operations_numpy(a, b)` qui prend deux tableaux numpy de la même taille, et effectue :\n",
    "- La somme des deux tableaux.\n",
    "- Le produit élément par élément.\n",
    "- La multiplication scalaire.\n",
    "\n",
    "2 - Créez deux tableaux numpy et testez la fonction `operations_numpy(a, b)`"
   ]
  },
  {
   "cell_type": "code",
   "execution_count": null,
   "metadata": {},
   "outputs": [],
   "source": [
    "# Exercice 9 - Solution\n"
   ]
  },
  {
   "cell_type": "markdown",
   "metadata": {},
   "source": [
    "### Exercice 10 : Tracer une fonction mathématique\n",
    "1 - Importez la fonction `pyplot` de la bibliothèque `matplotlib` sous l'alias `plt` pour tracer une fonction mathématique.\n",
    "\n",
    "2- Créez un tableau de valeurs x allant de 0 à `2π` avec `numpy.linspace`.\n",
    "\n",
    "3- Utilisez `numpy.sin` pour calculer les valeurs de `y = sin(x)`\n",
    "\n",
    "4- Tracez la fonction à l'aide de `matplotlib`."
   ]
  },
  {
   "cell_type": "code",
   "execution_count": null,
   "metadata": {},
   "outputs": [],
   "source": [
    "# Exercice 10 - Solution\n"
   ]
  },
  {
   "cell_type": "markdown",
   "metadata": {},
   "source": [
    "### Exercice 11 : Résolution de l'équation avec la Méthode de Newton\n",
    "1 - Implémentez la méthode de Newton pour résoudre l'équation `f(x) = 0`.\n",
    "\n",
    "2- Testez-la sur la fonction $f(x) = x^{2} - 2$."
   ]
  },
  {
   "cell_type": "code",
   "execution_count": null,
   "metadata": {},
   "outputs": [],
   "source": [
    "# Exercice 11 - Solution\n"
   ]
  },
  {
   "cell_type": "code",
   "execution_count": null,
   "metadata": {},
   "outputs": [],
   "source": []
  }
 ],
 "metadata": {
  "kernelspec": {
   "display_name": "Python 3 (ipykernel)",
   "language": "python",
   "name": "python3"
  },
  "language_info": {
   "codemirror_mode": {
    "name": "ipython",
    "version": 3
   },
   "file_extension": ".py",
   "mimetype": "text/x-python",
   "name": "python",
   "nbconvert_exporter": "python",
   "pygments_lexer": "ipython3",
   "version": "3.11.5"
  }
 },
 "nbformat": 4,
 "nbformat_minor": 4
}
