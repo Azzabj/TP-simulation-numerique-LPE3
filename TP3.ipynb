{
 "cells": [
  {
   "cell_type": "markdown",
   "id": "4a77ced4-4c8d-4d49-bca7-c89d01e05acf",
   "metadata": {},
   "source": [
    "# TP3 : Intégration et Dérivation Numérique en Python\n",
    "## Ben Jannet Azza\n",
    "\n",
    "## Objectifs\n",
    "\n",
    "L'objectif de ce TP est d'implémenter des méthodes d'intégration et de dérivation numérique en Python. Ce TP couvre :\n",
    "\n",
    "- Les méthodes d'intégration numérique : rectangles (gauche, droite, centrée) et trapèzes\n",
    "- Les méthodes de dérivation numérique à partir du développement de Taylor\n",
    "- L'utilisation des méthodes natives en Python pour l'intégration et la dérivation numérique, en utilisant des fonctions de la bibliothèque `Scipy`, pour comparer leur performance et leur précision avec les méthodes implémentées explicitement.\n",
    "\n",
    "## Partie 1 : Intégration Numérique\n",
    "\n",
    "### Rappel Théorique\n",
    "\n",
    "#### Méthode des Rectangles\n",
    "\n",
    "La méthode des rectangles consiste à diviser l'intervalle d'intégration `[a, b]` en `n` sous-intervalles de même largeur `h = (b - a)/n`. Nous approchons alors l'intégrale par la somme des aires des rectangles. Il existe plusieurs variantes :\n",
    "\n",
    "##### Rectangle à gauche\n",
    "$$\n",
    "\\int_a^b f(x) \\, dx \\approx h \\sum_{i=0}^{n-1} f(a + i \\cdot h)\n",
    "$$\n",
    "\n",
    "##### Rectangle à droite\n",
    "$$\n",
    "\\int_a^b f(x) \\, dx \\approx h \\sum_{i=1}^{n} f(a + i \\cdot h)\n",
    "$$\n",
    "\n",
    "##### Rectangle centré\n",
    "$$\n",
    "\\int_a^b f(x) \\, dx \\approx h \\sum_{i=1}^{n} f\\left(a + \\left(i - \\frac{1}{2}\\right) \\cdot h\\right)\n",
    "$$\n",
    "\n",
    "#### Méthode des Trapèzes\n",
    "$$\n",
    "\\int_a^b f(x) \\, dx \\approx I = \\frac{h}{2} \\sum_{i=1}^{n} \\left( f(a + i \\cdot h) + f(a + (i - 1) \\cdot h) \\right)\n",
    "$$\n",
    "\n",
    "### Exercices d'Intégration Numérique\n",
    "\n",
    "1. Implémentez les méthodes d'intégration en Python pour les rectangles (gauche, droite, centrée) et les trapèzes.\n",
    "2. Testez les méthodes avec `f(x) = sin(x)` sur l'intervalle `[0, π]` avec `n = 50`.\n",
    "3. Comparez les résultats de chaque méthode avec la valeur théorique de l'intégrale de `sin(x)` entre `0` et `π`, et calculez l'erreur pour chaque méthode.\n",
    "$$\n",
    "\\int_0^{\\pi} \\sin(x) \\, dx =\n",
    "\\left[ -\\cos(x) \\right]_0^{\\pi} = 2\n",
    "$$\n",
    "\n",
    "4. Observez la convergence des méthodes lorsque le nombre de sous-intervalles `n` augmente."
   ]
  },
  {
   "cell_type": "code",
   "execution_count": 1,
   "id": "7f154867-9362-43c8-b9f5-4eeb0a4183fb",
   "metadata": {},
   "outputs": [],
   "source": [
    "# Exercices d'intégration numérique - Solution\n"
   ]
  },
  {
   "cell_type": "markdown",
   "id": "753e7fef-08c9-405c-9636-f3339ffd1fff",
   "metadata": {},
   "source": [
    "## Partie 2 : Dérivation Numérique\n",
    "\n",
    "### Rappel Théorique\n",
    "\n",
    "Pour approcher la dérivée d'une fonction `f` en un point `x`, on peut utiliser un développement de Taylor. Deux approches courantes sont les formules à deux points et à trois points.\n",
    "\n",
    "##### Formule à deux points\n",
    "$$\n",
    "f'(x) \\approx \\frac{f(x + h) - f(x)}{h}\n",
    "$$\n",
    "##### Formule à trois points\n",
    "$$\n",
    "f'(x) \\approx \\frac{-f(x + 2h) + 4f(x + h) - 3f(x)}{2h}\n",
    "$$\n",
    "### Exercices\n",
    "\n",
    "Considérez la fonction suivante :\n",
    "$$\n",
    "f(x) = \\sqrt{x}\n",
    "$$\n",
    "Nous savons que la dérivée exacte de cette fonction est :\n",
    "$$\n",
    "f'(x) = \\frac{1}{2\\sqrt{x}}\n",
    "$$\n",
    "#### 1. Implémentation des formules :\n",
    "- Ecrivez une fonction Python `derivee_deux_points(f, x, h)` qui calcule l'approximation de la dérivée de `f` en `x` en utilisant la formule à deux points.\n",
    "- Ecrivez une fonction Python `derivee_trois_points(f, x, h)` qui calcule l'approximation de la dérivée de `f` en `x` en utilisant la formule à trois points.\n",
    "\n",
    "#### 2. Calcul des dérivées :\n",
    "- Choisissez le point `x_0 = 1.0` et plusieurs valeurs de pas `h` (par exemple, `h = 1.0, 0.1, 0.01, 0.001`).\n",
    "- Pour chaque valeur de `h`, calculez l'approximation de la dérivée à ce point en utilisant les deux fonctions que vous avez implémentées.\n",
    "\n",
    "#### 3. Comparaison avec la dérivée exacte :\n",
    "- Comparez les résultats obtenus avec la valeur exacte de la dérivée et calculez l'erreur pour chaque méthode.\n",
    "\n",
    "#### 4. Analyse de l'erreur :\n",
    "- Analysez comment l'erreur varie en fonction de `h` et discutez des résultats obtenus pour les deux méthodes."
   ]
  },
  {
   "cell_type": "code",
   "execution_count": 2,
   "id": "a176faee-bdb7-48f8-95c5-ec44392b8318",
   "metadata": {},
   "outputs": [],
   "source": [
    "# Exercices dérivation numérique - Solution\n"
   ]
  },
  {
   "cell_type": "markdown",
   "id": "10622f70-c63a-402f-9cec-2b7890ce468c",
   "metadata": {},
   "source": [
    "## Partie 3 : Utilisation des Méthodes Natives en Python\n",
    "\n",
    "Python offre des fonctions natives dans le module SciPy pour certaines des méthodes que nous avons implémentées.\n",
    "\n",
    "### Intégration Numérique avec SciPy\n",
    "Le module Python `scipy` contient une large gamme de fonctions qui peuvent être utilisées dans le cadre de calcul scientifique, y compris celles permettant l’intégration numérique d’une fonction. Ce module est organisé en différents sous-modules pour faciliter l'accès aux fonctionnalités. La fonction principale pour calculer l’intégrale d’une fonction sur un intervalle s’appelle `quad` et se trouve dans `scipy.integrate`. De plus, la fonction `scipy.integrate.trapezoid` permet de calculer l'intégrale en utilisant la méthode des trapèzes.\n",
    "\n",
    "#### Exercice\n",
    "1. Utilisez `scipy.integrate.quad` pour calculer l'intégrale de la fonction `f(x) = sin(x)` sur l'intervalle `[0, π]`. La fonction `quad` a la syntaxe suivante :\n",
    "\n",
    "`scipy.integrate.quad(func, a, b, args=())`\n",
    "\n",
    "où :\n",
    "- `func` est la fonction à intégrer.\n",
    "- `a` et `b` sont les bornes d'intégration.\n",
    "- `args` (optionnel) permet de passer des arguments supplémentaires à la fonction `func`.\n",
    "\n",
    "La fonction renvoie deux valeurs; la première est le résultat de l’intégration, et la seconde est une estimation de l’erreur commise lors de l’intégration.\n",
    "\n",
    "2. Grâce à la fonction `quad`, on peut calculer des intégrales sur des intervalles allant jusqu’à l’infini. Pour ce faire, il faut préalablement importer la valeur `inf` qui se trouve dans le module `numpy`. Utilisez la fonction `quad` pour vérifier ceci :\n",
    "$$\n",
    "\\int_{-\\infty}^{0} e^x \\, dx = 1\n",
    "$$\n",
    "3. Comparez le résultat obtenu avec celui calculé par la méthode des trapèzes à l'aide de `scipy.integrate.trapezoid` pour `n = 100` subdivisions. La fonction `trapezoid` a la syntaxe suivante :\n",
    "\n",
    "`scipy.integrate.trapezoid(y, x=None, dx=1.0, axis=-1)`\n",
    "\n",
    "où :\n",
    "- `y` est le tableau des valeurs de la fonction `f(x)` à intégrer.\n",
    "- `x` est le tableau des points d'échantillonnage correspondant aux valeurs de `y` (optionnel).\n",
    "- `dx` est l'espacement entre les points d'échantillonnage si `x` n'est pas spécifié (par défaut `dx = 1.0`).\n",
    "- `axis` est l'axe le long duquel intégrer (par défaut l'axe final)."
   ]
  },
  {
   "cell_type": "code",
   "execution_count": 3,
   "id": "0bd75ddd-bf56-4779-b61c-c2f9973f39d8",
   "metadata": {},
   "outputs": [],
   "source": [
    "# Integration numérique avec SciPy - Solution\n"
   ]
  },
  {
   "cell_type": "markdown",
   "id": "1428828a-fb30-41a9-8e95-c6e8336baf2d",
   "metadata": {},
   "source": [
    "### Dérivation Numérique avec SciPy\n",
    "Pour la dérivation numérique, SciPy propose la fonction `scipy.misc.derivative`. Cette fonction peut être utilisée pour calculer la dérivée d'une fonction en un point donné en spécifiant le pas d'approximation. La syntaxe générale de la fonction est la suivante :\n",
    "\n",
    "`scipy.misc.derivative(f, x0, dx=1e-6, n=1, order=3)`\n",
    "\n",
    "Où :\n",
    "- `f` : la fonction dont on souhaite calculer la dérivée.\n",
    "- `x0` : le point où l'on souhaite évaluer la dérivée.\n",
    "- `dx` : le pas d'approximation (par défaut `1e-6`).\n",
    "- `n` : le nombre de dérivées successives à calculer (par défaut `1` pour la première dérivée).\n",
    "- `order` : l'ordre de la méthode de différence finie utilisée pour l'approximation (`3`, c'est-à-dire une approximation centrée sur trois points).\n",
    "\n",
    "#### Exercice\n",
    "1. Utilisez `scipy.misc.derivative` pour calculer la dérivée de la fonction $f(x) = \\sqrt{x}$ au point `x = 1`.\n",
    "2. Essayez d'utiliser des valeurs différentes pour le pas et observez comment cela affecte la précision du résultat.\n"
   ]
  },
  {
   "cell_type": "code",
   "execution_count": 4,
   "id": "8c35bddc-4978-42a1-a647-3843e2be02f6",
   "metadata": {},
   "outputs": [],
   "source": [
    "# Dérivation numérique avec SciPy - Solution\n"
   ]
  },
  {
   "cell_type": "markdown",
   "id": "b2efa9a5-d8e8-48c2-8efc-2b6bf0756df6",
   "metadata": {},
   "source": [
    "### Dérivation Numérique avec Numdifftools\n",
    "Pour la dérivation numérique, `numdifftools` offre la classe `numdifftools.core.Derivative`, qui permet de calculer la dérivée d'une fonction en un point donné.\n",
    "La syntaxe générale de `numdifftools.core.Derivative` est la suivante :\n",
    "\n",
    "`numdifftools.core.Derivative(f, step=1e-6, n=1)`\n",
    "\n",
    "Où:\n",
    "- `f` : la fonction dont on souhaite calculer la dérivée.\n",
    "- `step` : le pas d'approximation (par défaut 1e-6).\n",
    "- `n` : le nombre de dérivées successives à calculer (par défaut 1 pour la première dérivée).\n",
    "\n",
    "#### Exercice\n",
    "1. Utilisez `numdifftools.core.Derivative` pour calculer la dérivée de la fonction $f(x) = \\sqrt{x}$ au point `x = 1`.\n",
    "2. Essayez d'utiliser des valeurs différentes pour le pas et observez comment cela affecte la précision du résultat."
   ]
  },
  {
   "cell_type": "code",
   "execution_count": 5,
   "id": "9e8c4989-2c93-4329-841a-c1b7ca2e5b60",
   "metadata": {},
   "outputs": [],
   "source": [
    "#Dérivation numérique avec numdifftools\n"
   ]
  },
  {
   "cell_type": "markdown",
   "id": "7574c531-7619-4b7b-9615-5997829b6bd8",
   "metadata": {},
   "source": [
    "### Méthode de Newton avec SciPy\n",
    "La fonction `scipy.optimize.newton` permet de trouver les racines d'une équation en utilisant la méthode de Newton. Cette méthode est particulièrement efficace pour les fonctions continues et dérivables. \n",
    "La syntaxe générale de la fonction est la suivante :\n",
    "\n",
    "`scipy.optimize.newton(f, x0, fprime=None, args=(), tol=1e-5, maxiter=50, full_output=False)`\n",
    "\n",
    "Où :\n",
    "- `f` : la fonction pour laquelle nous voulons trouver la racine.\n",
    "- `x0` : l'estimation initiale de la racine.\n",
    "- `fprime` : la dérivée de la fonction (facultatif, si non fourni, une approximation numérique de la dérivée sera utilisée).\n",
    "- `args` : les arguments supplémentaires passés à la fonction `f`.\n",
    "- `tol` : la tolérance, qui détermine la précision des résultats (par défaut `1e-5`).\n",
    "- `maxiter` : le nombre maximal d'itérations à effectuer (par défaut `50`).\n",
    "- `full_output` : si `True`, la fonction renvoie des informations supplémentaires, telles que le nombre d'itérations et l'état de convergence (par défaut `False`).\n",
    "\n",
    "#### Exercice\n",
    "1. Utilisez `scipy.optimize.newton` pour trouver la racine de l'équation $f(x) = x^{2} - 2$.\n",
    "2. Testez la méthode avec un point de départ `x_0 = 1` et observez si le résultat converge vers la racine correcte. Essayez aussi avec un point de départ différent, par exemple `x_0 = 3`, et discutez des résultats.\n"
   ]
  },
  {
   "cell_type": "code",
   "execution_count": 6,
   "id": "f63b9ca4-eeab-4103-877c-5ff223925869",
   "metadata": {},
   "outputs": [],
   "source": [
    "# Méthode de Newton avec SciPy - Solution\n"
   ]
  },
  {
   "cell_type": "markdown",
   "id": "60400045-4b0c-4563-8e65-959cf5f4d53f",
   "metadata": {},
   "source": [
    "### Résolution Numérique avec la Méthode de Bissection\n",
    "La bibliothèque SciPy propose la fonction `scipy.optimize.bisect`, qui implémente la méthode de bissection (ou dichotomie). Cette méthode est utilisée pour trouver une racine d'une fonction `f(x)` dans un intervalle donné `[a,b]`, à condition que la fonction change de signe dans cet intervalle (c'est-à-dire que `f(a)×f(b)<0`).\n",
    "La syntaxe de la fonction scipy.optimize.bisect est la suivante :\n",
    "\n",
    "`scipy.optimize.bisect(f, a, b, xtol=1e-6)`\n",
    "\n",
    "Où :\n",
    "- `f` : la fonction dont on souhaite trouver une racine.\n",
    "- `a et b` : les bornes de l'intervalle `[a,b]` dans lequel on cherche la racine.\n",
    "- `xtol` : la tolérance de précision pour la solution (par défaut 1e-6).\n",
    "\n",
    "#### Exercice\n",
    "1. Utilisez `scipy.optimize.bisect` pour trouver la racine de l'équation $f(x) = x^{2} - 2$ dans l'intervalle `[1,2]`.\n",
    "2. Expérimentez avec différentes valeurs de tolérance `xtol` pour voir comment elles affectent la précision et le nombre d'itérations nécessaires pour trouver la racine."
   ]
  },
  {
   "cell_type": "code",
   "execution_count": 8,
   "id": "1fec6c55-d8ad-4075-ad38-2732c4813f81",
   "metadata": {},
   "outputs": [],
   "source": [
    "#Résolution numérique avec la méthode bissection - Solution\n"
   ]
  }
 ],
 "metadata": {
  "kernelspec": {
   "display_name": "Python 3 (ipykernel)",
   "language": "python",
   "name": "python3"
  },
  "language_info": {
   "codemirror_mode": {
    "name": "ipython",
    "version": 3
   },
   "file_extension": ".py",
   "mimetype": "text/x-python",
   "name": "python",
   "nbconvert_exporter": "python",
   "pygments_lexer": "ipython3",
   "version": "3.11.5"
  }
 },
 "nbformat": 4,
 "nbformat_minor": 5
}
