{
 "cells": [
  {
   "cell_type": "markdown",
   "id": "14788630-4f9e-4fc2-b775-4907347c44dd",
   "metadata": {},
   "source": [
    "# TP1 - Prise en main de Python\n",
    "### Ben Jannet Azza"
   ]
  },
  {
   "cell_type": "markdown",
   "id": "aababedd-68f0-4dad-ab01-ab9412a72b6d",
   "metadata": {},
   "source": [
    "## Objectif\n",
    "L’objectif de ce TP est de se familiariser avec Python, connaître ses concepts de base et être capable de :\n",
    "- Ecrire du code de base en python\n",
    "- Créez vos premières variables\n",
    "- Travailler avec différents types de données en Python\n"
   ]
  },
  {
   "cell_type": "markdown",
   "id": "3db21d47-2005-4604-87fa-9451f707e455",
   "metadata": {},
   "source": [
    "## Introduction à Python"
   ]
  },
  {
   "cell_type": "markdown",
   "id": "778b5853-b510-4245-b63a-3dd9b7c5fb42",
   "metadata": {},
   "source": [
    "### Premier code : Hello, World!\n",
    "Le premier programme que la plupart des gens écrivent est simple et classique. Il s'agit d'afficher un message à l'écran.\n",
    "Tapez ce code `print(\"Hello, World!\")` et exécutez-le. Vous devriez voir le message `Hello, World!` s'afficher dans la console. \n",
    "`Conseil` : Pour exécuter le code Python dans la cellule ci-dessous, cliquez sur la cellule pour la sélectionner et appuyez sur `Shift + Enter`."
   ]
  },
  {
   "cell_type": "code",
   "execution_count": 1,
   "id": "3a689b77-952c-4ee3-859e-4f7dcf8c01f3",
   "metadata": {},
   "outputs": [],
   "source": [
    "#Tapez votre ci-dessous\n"
   ]
  },
  {
   "cell_type": "markdown",
   "id": "b094c837-0a68-4ce1-b9c9-294e61a7532e",
   "metadata": {},
   "source": [
    "### Exercice 1 : \n",
    "Utilisez la fonction `print()` pour afficher la phrase : `Bonjour, bienvenue dans votre premier TP Python`."
   ]
  },
  {
   "cell_type": "code",
   "execution_count": null,
   "id": "65458a1b-0ca1-44d2-9c12-0ce1cd820e99",
   "metadata": {},
   "outputs": [],
   "source": [
    "#Exercice 1 - Solution\n"
   ]
  },
  {
   "cell_type": "markdown",
   "id": "d34e2d38-e327-4cf2-aefb-5f0f03343f43",
   "metadata": {},
   "source": [
    "### Commentaires en Python\n",
    "Les commentaires sont des parties du code qui ne sont pas exécutées. Ils servent à expliquer ou annoter le code. En Python, les commentaires commencent par le caractère `#`. \n",
    "1. Essayez le code ci-dessous et observez ce qui se passe.\n",
    "2. Enlevez le `#` au début de la ligne `# print(\"Hi!\")`, et reéxécutez le code."
   ]
  },
  {
   "cell_type": "code",
   "execution_count": null,
   "id": "24891bf3-be8f-4e7c-89b2-dac48de9ff3d",
   "metadata": {},
   "outputs": [],
   "source": [
    "\t# Ceci est un commentaire en Python\n",
    "\tprint(\"Hello, World!\")\n",
    "\t# print(\"Hi!\")"
   ]
  },
  {
   "cell_type": "markdown",
   "id": "4655ea07-966f-4016-beed-d8ed5a523dec",
   "metadata": {},
   "source": [
    "### Exercice 2 :\n",
    "Ajoutez un commentaire dans la cellule de code ci-dessous pour indiquer votre nom et prénom, classe et groupe de TP."
   ]
  },
  {
   "cell_type": "code",
   "execution_count": null,
   "id": "a8e7f22d-285e-434d-83b8-b83b98137f4d",
   "metadata": {},
   "outputs": [],
   "source": [
    "# Exercice 2 - Solution\n"
   ]
  },
  {
   "cell_type": "markdown",
   "id": "144f41d9-e306-4fee-bd33-542e3e4aada3",
   "metadata": {},
   "source": [
    "### Erreurs en Python\n",
    "Les erreurs sont courantes en programmation. Voici quelques exemples d'erreurs à essayer pour comprendre comment Python les gère."
   ]
  },
  {
   "cell_type": "code",
   "execution_count": null,
   "id": "f47d6c20-e543-4990-9cca-613cad9e18f0",
   "metadata": {},
   "outputs": [],
   "source": [
    "# Exemple d'erreur de syntaxe\n",
    "\tprint(\"Bonjour\n",
    "\n",
    "# Exemple d'erreur d'exécution\n",
    "\tprint(10 / 0)  # Division par zéro\n",
    "\n",
    "# Afficher NameError comme message d'erreur\n",
    "\tfrint(\"Hello, Python!\")"
   ]
  },
  {
   "cell_type": "markdown",
   "id": "0b1dcc89-c269-48cc-a107-2485cfe947e6",
   "metadata": {},
   "source": [
    "Python interprète votre script ligne par ligne au fur et à mesure de son exécution et il arrêtera l'exécution de l'ensemble du programme lorsqu'il rencontrera une erreur :"
   ]
  },
  {
   "cell_type": "code",
   "execution_count": null,
   "id": "4317c75e-7c62-4ad9-b328-2ce9d8903e45",
   "metadata": {},
   "outputs": [],
   "source": [
    "print(\"Hello, Python!\") #Cela sera affiché\n",
    "frint(\"Hello, Python!\") #Cela causera une erreur\n",
    "print(\"Hello, Python!\") #Cela Ne sera pas affiché"
   ]
  },
  {
   "cell_type": "markdown",
   "id": "2752af82-33a5-4e7e-b5a2-26d716ffb6e4",
   "metadata": {},
   "source": [
    "### Exercice 3 :\n",
    "Testez et corrigez les erreurs suivantes :\n",
    "- `print(\"Hello)`\n",
    "- `print(x)`"
   ]
  },
  {
   "cell_type": "code",
   "execution_count": null,
   "id": "16ada672-691e-4f14-8092-47931ea18a5b",
   "metadata": {},
   "outputs": [],
   "source": [
    "# Exercice 3 - Solution\n"
   ]
  },
  {
   "cell_type": "markdown",
   "id": "942588f3-0b26-4bd5-bf19-bc37cc6e9130",
   "metadata": {},
   "source": [
    "### Affichage\n",
    "#### 1 - fonction `print()`\n",
    "La fonction `print()` affiche l'argument qu'on lui passe entre parenthèses et un retour à ligne. Ce retour à ligne supplémentaire est ajouté par défaut. Dans la fonction `print()`, vous pouvez afficher plusieurs variables, séparées par une virgule, qui prennent même en charge différents types de données. \n",
    "\n",
    "Exécutez le code ci-dessous, et observez qu'après l'exécution du code, les variables sont séparées à l'affichage par un espace (ce qui est le comportement par défaut).\n",
    "1. Ajoutez le paramètre `sep=', '` dans la fonction `print()` pour que les variables soient séparées par une virgule lors de l'affichage.\n",
    "2. Saisissez deux nombres, effectuez l'addition et la multiplication de ces nombres, et affichez les résultats."
   ]
  },
  {
   "cell_type": "code",
   "execution_count": null,
   "id": "12f7412b-024a-46ae-ae8c-a4724017363f",
   "metadata": {},
   "outputs": [],
   "source": [
    "#Exemple \n",
    "nom = \"VotreNom\"\n",
    "age = 25\n",
    "print(\"Nom:\", nom, \"Age:\", age)\n",
    "\n",
    "#Ajouter le paramètre sep=', ' dans la fonction print()\n",
    "\n",
    "\n",
    "#Exercice : Affichage de l'addition et la multiplication\n",
    "\n"
   ]
  },
  {
   "cell_type": "markdown",
   "id": "4257d3b8-8f50-415f-85ce-e384e38ee91e",
   "metadata": {},
   "source": [
    "#### 2 - Ecriture formatée et f-strings \n",
    "L'écriture formatée (ou les f-strings) est un mécanisme permettant d'afficher des variables avec un format précis ou encore avec un certain nombre de décimales pour les floats. Les f-strings sont définies en plaçant un f devant la chaîne de caractères, et en entourant les expressions ou les variables à insérer dans des accolades `{}`. On utilise la syntaxe suivante (exécutez les exemples ci-dessous):"
   ]
  },
  {
   "cell_type": "code",
   "execution_count": null,
   "id": "40746dc7-7189-4f74-83ba-5b3b6191e39f",
   "metadata": {},
   "outputs": [],
   "source": [
    "# Exemple d'utilisation des f-strings pour formater une chaîne de caractères\n",
    "print(f\"Bonjour, je m'appelle {nom} et j'ai {age} ans.\")"
   ]
  },
  {
   "cell_type": "code",
   "execution_count": null,
   "id": "16d777ef-200b-4811-a9f5-de89248b13d6",
   "metadata": {},
   "outputs": [],
   "source": [
    "# Evaluer des expressions directement à l'intérieur des accolades\n",
    "print(f\"Dans deux ans, j'aurai {age + 2} ans.\")"
   ]
  },
  {
   "cell_type": "code",
   "execution_count": null,
   "id": "3676c4ff-877b-46c3-a395-fc43fc4b6ced",
   "metadata": {},
   "outputs": [],
   "source": [
    "# Formater un nombre décimal avec un certain nombre de chiffres après la virgule\n",
    "pi = 3.14159265359\n",
    "print(f\"La valeur de pi avec 2 decimales : {pi:.2f}\")"
   ]
  },
  {
   "cell_type": "code",
   "execution_count": null,
   "id": "1dfac2ec-18ea-46e6-a074-7a3d989cef06",
   "metadata": {},
   "outputs": [],
   "source": [
    "# Afficher un nombre en notation scientifique (sous forme de puissance de 10) avec la lettre e\n",
    "grand_nombre = 123456789\n",
    "print(f\"Écriture scientifique : {grand_nombre:.2e}\")\n",
    "\n",
    "avogadro_number = 6.02214076e23\n",
    "print(f\"{avogadro_number:.0e}\") # aucun chiffre après la virgule : 6e+23\n",
    "print(f\"{avogadro_number:.3e}\") # 3 chiffres après la virgule : 6.022e+23\n",
    "print(f\"{avogadro_number:.6e}\") # 6 chiffres après la virgule : 6.022141e+23"
   ]
  },
  {
   "cell_type": "markdown",
   "id": "38e80148-8b03-4b68-950e-abb36cb5d5f0",
   "metadata": {},
   "source": [
    "### Exercice 4 :\n",
    "1. En utilisant l'écriture formatée, affichez en une seule ligne les variables a, b et c dont les valeurs sont respectivement la chaîne de caractères \"salut\", le nombre entier 102 et le float 10.318. La variable c sera affichée avec deux décimales.\n",
    "2. Calculez le pourcentage de GC avec l'instruction suivante :\n",
    "\n",
    "$percGC = ((4500 + 2575)/14800)*100$\n",
    "\n",
    "Ensuite, affichez le contenu de la variable `percGC` à l'écran avec `0`, `1`, `2` puis `3` décimales sous forme arrondie en utilisant l'écriture formatée. On souhaite que le programme affiche la sortie suivante :\n",
    "- Le pourcentage de GC est 48     %\n",
    "- Le pourcentage de GC est 47.8   %\n",
    "- Le pourcentage de GC est 47.80  %\n",
    "- Le pourcentage de GC est 47.804 %"
   ]
  },
  {
   "cell_type": "code",
   "execution_count": null,
   "id": "b30fd26a-06a7-4472-8fce-4c5be7cce404",
   "metadata": {},
   "outputs": [],
   "source": [
    "# Exercice 4 - Solution\n"
   ]
  },
  {
   "cell_type": "markdown",
   "id": "78a75d9c-5e7b-4658-8fc6-df3db9ace743",
   "metadata": {},
   "source": [
    "## Variables et types de données\n",
    "Une variable est un espace mémoire où on peut stocker des informations. En Python, vous n'avez pas besoin de déclarer le type de variable explicitement. Voici quelques types de données communs :\n",
    "- `int` : nombres entiers (ex: 5, 10, -3)\n",
    "- `float` : nombres à virgule flottante (ex: 3.14, -2.7)\n",
    "- `str` : chaînes de caractères (ex: \"Bonjour\", \"Alice\")\n",
    "- `bool` : booléens (ex: True, False)"
   ]
  },
  {
   "cell_type": "markdown",
   "id": "1cff6667-6c33-460f-91e1-1e83c6c84fb5",
   "metadata": {},
   "source": [
    "### Exercice 5 :\n",
    "Affichez le type des données suivantes à l'aide de la fonction `type()` :\n",
    "- Un entier : `42`\n",
    "- Un nombre à virgule flottante : `3.14`\n",
    "- Une chaîne de caractères : `\"Hello\"`\n",
    "- Un booléen : `True`\n",
    "- Un nombre complexe : `2 + 3j`"
   ]
  },
  {
   "cell_type": "code",
   "execution_count": 13,
   "id": "9bb49ef3-9b93-45ce-89ef-3f99daec65c5",
   "metadata": {},
   "outputs": [],
   "source": [
    "# Exercice 5 - Solution\n"
   ]
  },
  {
   "cell_type": "markdown",
   "id": "11772d67-05e1-4b63-8b88-8f7a25cd4330",
   "metadata": {},
   "source": [
    "### Exercice 6 : Conversion de types \n",
    "1. Convertissez un entier en chaîne de caractères et affichez son type.\n",
    "2. Convertissez une chaîne en nombre flottant et affichez son type.\n"
   ]
  },
  {
   "cell_type": "code",
   "execution_count": null,
   "id": "3bb3f659-4016-47e2-a82c-deabc7455cca",
   "metadata": {},
   "outputs": [],
   "source": [
    "# Exercice 6 - Solution\n"
   ]
  },
  {
   "cell_type": "markdown",
   "id": "6294d9bf-9151-4b42-adfe-b4eec53458ed",
   "metadata": {},
   "source": [
    "### Exercice 7 : Opérateurs arithmétiques et de comparaison\n",
    "Effectuez les opérations suivantes et affichez les résultats : Soit `a = 5` et `b = 10`\n",
    "- Addition, Soustraction, Multiplication, Division, Exponentiation\n",
    "- Comparez les variables a et b avec `>`, `<`, `==`, et `!=`."
   ]
  },
  {
   "cell_type": "code",
   "execution_count": 14,
   "id": "4904950f-04f3-4e83-8226-d769a164c211",
   "metadata": {},
   "outputs": [],
   "source": [
    "# Exercice 7 - Solution\n"
   ]
  },
  {
   "cell_type": "markdown",
   "id": "a1689423-4baf-4381-bbf6-f10d7d1b2052",
   "metadata": {},
   "source": [
    "### Exercice 8 :\n",
    "Quelle est la valeur de `x`, `y` et `z` ?\n",
    "`x = 3 + 2 * 2` ;\n",
    "`y = (3 + 2) * 2`;\n",
    "`z = x + y` ."
   ]
  },
  {
   "cell_type": "code",
   "execution_count": 3,
   "id": "049c3f1f-6251-4ead-a60b-7f7e59fbaf9e",
   "metadata": {},
   "outputs": [],
   "source": [
    "# Exercice 8 - Solution\n"
   ]
  },
  {
   "cell_type": "markdown",
   "id": "17bc606c-c96e-4f07-bd35-ed5ed4d35b77",
   "metadata": {},
   "source": [
    "### Exercice 9 :\n",
    "Utilisez l'opérateur modulo (`%`) et l'opérateur division entière (`//`) pour simplifier des fractions, connaissant leur numérateur et leur dénominateur, et afficher le résultat avec des f-strings. Par exemple pour la fraction `7/3`, le numérateur vaut `7` et le dénominateur vaut `3`, et le résultat s'affichera sous la forme :\n",
    "`7/3 = 2 + 1/3`\n",
    "\n",
    "Ici, `2` est le résultat de la division entière du numérateur par le dénominateur et `1` est le reste de la division entière du numérateur par le dénominateur.\n",
    "\n",
    "Faites de même pour les fractions suivantes : `9/4, 23/5, 21/8 et 7/2`"
   ]
  },
  {
   "cell_type": "code",
   "execution_count": 15,
   "id": "cf36ac36-6843-411b-8ef2-3668096921f0",
   "metadata": {},
   "outputs": [],
   "source": [
    "# Exercice 9 - Solution\n"
   ]
  },
  {
   "cell_type": "markdown",
   "id": "9af3d174-7655-477d-9ded-f56875b8ee3d",
   "metadata": {},
   "source": [
    "### Exercice 10 : Partager l'addition d'un restaurant entre amis\n",
    "1. Demandez à l'utilisateur d'entrer un nombre entier représentant le nombre total d'amis et assignez-le à la variable `total_amis`.\n",
    "2. Demandez à l'utilisateur d'entrer un nombre entier représentant l'addition du restaurant et assignez-le à la variable `addition`.\n",
    "3. Calculez le montant de la taxe, qui est de `20%` de l'addition.\n",
    "4. Ajoutez la taxe à l'addition et divisez le montant total par le nombre d'amis.\n",
    "\n",
    "`Exemple de test :`\n",
    "\n",
    "`Entrée : 3 amis, addition de 40 ; Sortie attendue : 16.0`\n",
    "\n",
    "##### Remarque : \n",
    "Dans cet exercice, nous utilisons la fonction `input()` pour obtenir une entrée de l'utilisateur. Cependant, `input()` renvoie toujours une chaîne de caractères `str`. Pour utiliser cette entrée dans des calculs numériques, il est nécessaire de la convertir dans le type de données souhaité (comme un entier ou un flottant).\n",
    "- `int(input(\"\"))` permet de convertir l'entrée en un nombre entier.\n",
    "- `float(input(\"\"))` permet de convertir l'entrée en un nombre à virgule flottante.\n",
    "- `str(input(\"\"))` (bien que l'entrée soit déjà une chaîne) s'assure que l'entrée reste une chaîne de caractères."
   ]
  },
  {
   "cell_type": "code",
   "execution_count": 5,
   "id": "50e0ce2f-b06f-4fd1-b531-755fc8ba93bc",
   "metadata": {},
   "outputs": [],
   "source": [
    "# Exercice 10 - Solution\n",
    "total_amis = int(input(\"Entrez le nombre total d'amis :\"))\n"
   ]
  },
  {
   "cell_type": "markdown",
   "id": "7afc27fe-6306-4aa4-bb61-747c5d7a8409",
   "metadata": {},
   "source": [
    "### Exercice 11 : Calculateur d'IMC\n",
    "Créer un programme pour calculer l'IMC (Indice de Masse Corporelle) d'une personne. La formule pour calculer l'IMC d'une personne est :\n",
    "$IMC = poids/taille^{2}$\n",
    "1. Demandez à l'utilisateur d'entrer un nombre à virgule flottante pour le poids de la personne (en kg) et assignez-le à la variable `poids`.\n",
    "2. Demandez à l'utilisateur d'entrer un nombre à virgule flottante pour la taille de la personne (en mètres) et assignez-le à la variable `taille`.\n",
    "3. Utilisez la formule pour calculer l'`IMC`.\n",
    "4. Affichez l'`IMC` de la personne, arrondi à deux chiffres après la virgule.\n",
    "\n",
    "`Exemple de test :`\n",
    "\n",
    "`Entrée : poids = 85.7, taille = 1.73 ; Sortie attendue : 28.63`"
   ]
  },
  {
   "cell_type": "code",
   "execution_count": 6,
   "id": "1452ae54-cdc9-423e-a58d-3ef7be883fdc",
   "metadata": {},
   "outputs": [],
   "source": [
    "# Exercice 11 - Solution\n"
   ]
  },
  {
   "cell_type": "markdown",
   "id": "7bbad6b6-9382-4bea-9109-c96cc2ac60be",
   "metadata": {},
   "source": [
    "## Exercices pratiques"
   ]
  },
  {
   "cell_type": "markdown",
   "id": "db5ff531-483b-4c60-8c1f-25b033042023",
   "metadata": {},
   "source": [
    "### Exercice 12 :\n",
    "1. Ecris un programme qui demande à l’utilisateur d’entrer deux nombres : `a` et `b`.\n",
    "2. Le programme doit ensuite afficher :\n",
    "- La somme des deux nombres.\n",
    "- La différence entre `a` et `b`.\n",
    "- Le produit de `a` et `b`.\n",
    "- Le quotient de `a` par `b`.\n",
    "- Le reste de la division de `a` par `b` (modulo).\n",
    "\n",
    "`Exemple de test :`\n",
    "\n",
    "`Entrée : a = 10, b = 3`\n",
    "\n",
    "`Sortie :`\n",
    "\n",
    "`Somme : 13`\n",
    "\n",
    "`Différence : 7`\n",
    "\n",
    "`Produit : 30`\n",
    "\n",
    "`Quotient : 3.33`\n",
    "\n",
    "`Modulo : 1`"
   ]
  },
  {
   "cell_type": "code",
   "execution_count": 7,
   "id": "84ab4dd3-1036-409e-98d7-2abb692c09c1",
   "metadata": {},
   "outputs": [],
   "source": [
    "# Exercice 12 - Solution\n"
   ]
  },
  {
   "cell_type": "markdown",
   "id": "bb9756f6-f3e2-4cfd-bd29-cf63eaf0ab62",
   "metadata": {},
   "source": [
    "### Exercice 13 :\n",
    "1. Ecris un programme qui demande à l’utilisateur d’entrer une chaîne de caractères représentant un nombre entier.\n",
    "2. Convertis cette chaîne en nombre entier, puis effectue les opérations suivantes :\n",
    "- Multiplie le nombre par 2.\n",
    "- Ajoute 10 au nombre.\n",
    "- Affiche le résultat sous forme d'une chaîne de caractères.\n",
    "\n",
    "`Exemple de test :`\n",
    "`Entrée : \"5\" ; Sortie : \"Le résultat est : 20\"`\t"
   ]
  },
  {
   "cell_type": "code",
   "execution_count": 16,
   "id": "bc84301d-7336-41bc-b189-5bff257f3bc9",
   "metadata": {},
   "outputs": [],
   "source": [
    "# Exercice 13 - Solution\n"
   ]
  },
  {
   "cell_type": "markdown",
   "id": "f8636c25-2bf9-4b9d-a125-010ad3027d90",
   "metadata": {},
   "source": [
    "### Exercice 14 : Calcul du périmètre et de la surface d'un rectangle\n",
    "1. Demande à l’utilisateur d’entrer la longueur et la largeur d’un rectangle (sous forme de nombres flottants).\n",
    "2. Calcule et affiche le périmètre et la surface du rectangle.\n",
    "\n",
    "`Formules :`\n",
    "\n",
    "$P = 2*(longueur + largeur)$\n",
    "\n",
    "$S = longueur * largeur$\n",
    "\n",
    "`Exemple de test :`\n",
    "\n",
    "`Entrée : longueur = 5.5, largeur = 3.2`\n",
    "\n",
    "`Sortie :`\n",
    "- `Périmètre : 17.4`\n",
    "- `Surface : 17.6`"
   ]
  },
  {
   "cell_type": "code",
   "execution_count": 10,
   "id": "1cff6c1b-bb05-4720-ba34-4507bf6ca2cd",
   "metadata": {},
   "outputs": [],
   "source": [
    "# Exercice 14 - Solution\n"
   ]
  },
  {
   "cell_type": "markdown",
   "id": "dab7fbd1-1b91-48cc-85ec-84f4a8dfe362",
   "metadata": {},
   "source": [
    "### Exercice 15 : Calcul d'âge\n",
    "1. Créez un programme qui demande à l’utilisateur son année de naissance (un entier).\n",
    "2. Le programme doit ensuite calculer et afficher son âge actuel (en supposant que l'année actuelle est 2024).\n",
    "\n",
    "`Exemple de test : \tEntrée : année de naissance = 1995 ; Sortie : Tu as 29 ans.`"
   ]
  },
  {
   "cell_type": "code",
   "execution_count": 17,
   "id": "c96845f7-a49b-41e0-b7d1-5daf8203695d",
   "metadata": {},
   "outputs": [],
   "source": [
    "# Exercice 15 - Solution\n"
   ]
  }
 ],
 "metadata": {
  "kernelspec": {
   "display_name": "Python 3 (ipykernel)",
   "language": "python",
   "name": "python3"
  },
  "language_info": {
   "codemirror_mode": {
    "name": "ipython",
    "version": 3
   },
   "file_extension": ".py",
   "mimetype": "text/x-python",
   "name": "python",
   "nbconvert_exporter": "python",
   "pygments_lexer": "ipython3",
   "version": "3.11.5"
  }
 },
 "nbformat": 4,
 "nbformat_minor": 5
}
